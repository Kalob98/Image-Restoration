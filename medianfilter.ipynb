{
 "cells": [
  {
   "cell_type": "code",
   "execution_count": 1,
   "metadata": {},
   "outputs": [],
   "source": [
    "from pdf2image import convert_from_path, convert_from_bytes\n",
    "import numpy as np\n",
    "import cv2 as cv2\n",
    "from matplotlib import pyplot as plt\n",
    "\n",
    "\n",
    "\n",
    "images = convert_from_path('/home/georg5550/Desktop/DImage projekt/demo.pdf')\n",
    "images[0].save('proov.jpg', 'JPEG')\n",
    "\n",
    "imggg = cv2.imread('proov2.jpg',0)\n",
    "im7 = cv2.resize(imggg,(720,920))\n",
    "\n",
    "imgg = cv2.imread('proov1.jpg', 0)\n",
    "im6 = cv2.resize(imgg,(720,920))\n",
    "\n",
    "new = cv2.imread('new2.jpg',0)"
   ]
  },
  {
   "cell_type": "code",
   "execution_count": 8,
   "metadata": {},
   "outputs": [],
   "source": [
    "#ksize - aperture linear size; it must be odd\n",
    "img_med = cv2.medianBlur(im7, ksize=13)\n",
    "\n",
    "cv2.imshow('Original', img_med)\n",
    "#cv2.imwrite('hope.png',ret)\n",
    "cv2.waitKey(0)\n",
    "cv2.destroyAllWindows()"
   ]
  },
  {
   "cell_type": "code",
   "execution_count": null,
   "metadata": {},
   "outputs": [],
   "source": [
    "plz = cv2.GaussianBlur(im7,(51,51),cv2.BORDER_DEFAULT) \n",
    "\n",
    "cv2.imshow('Original', plz)\n",
    "#cv2.imwrite('hope.png',ret)\n",
    "cv2.waitKey(0)\n",
    "cv2.destroyAllWindows()"
   ]
  },
  {
   "cell_type": "code",
   "execution_count": 9,
   "metadata": {},
   "outputs": [],
   "source": [
    "ret,th1 = cv2.threshold(img_med,230,255,cv2.THRESH_BINARY_INV)\n",
    "#img2_fg = cv.bitwise_and(img2,img2,mask = mask)\n",
    "\n",
    "kernel = np.ones((1,20), np.uint8)  # note this is a horizontal kernel\n",
    "d_im = cv2.dilate(th1, kernel, iterations=1)\n",
    "\n",
    "e_im = cv2.erode(d_im, kernel, iterations=1) \n",
    "\n",
    "result = cv2.bitwise_or(new,e_im)"
   ]
  },
  {
   "cell_type": "code",
   "execution_count": 10,
   "metadata": {},
   "outputs": [],
   "source": [
    "cv2.imshow('Result', result)\n",
    "cv2.imshow('Original', new)\n",
    "#cv2.imwrite('hope.png',ret)\n",
    "cv2.waitKey(0)\n",
    "cv2.destroyAllWindows()"
   ]
  },
  {
   "cell_type": "code",
   "execution_count": null,
   "metadata": {},
   "outputs": [],
   "source": []
  }
 ],
 "metadata": {
  "kernelspec": {
   "display_name": "Python 3",
   "language": "python",
   "name": "python3"
  },
  "language_info": {
   "codemirror_mode": {
    "name": "ipython",
    "version": 3
   },
   "file_extension": ".py",
   "mimetype": "text/x-python",
   "name": "python",
   "nbconvert_exporter": "python",
   "pygments_lexer": "ipython3",
   "version": "3.7.3"
  }
 },
 "nbformat": 4,
 "nbformat_minor": 2
}
